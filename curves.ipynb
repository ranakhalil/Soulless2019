{
 "cells": [
  {
   "cell_type": "markdown",
   "metadata": {},
   "source": [
    "# Trajectory Curves"
   ]
  },
  {
   "cell_type": "markdown",
   "metadata": {},
   "source": [
    "## Load Image"
   ]
  },
  {
   "cell_type": "code",
   "execution_count": 56,
   "metadata": {},
   "outputs": [],
   "source": [
    "import cv2\n",
    "import numpy as np\n",
    "import math\n",
    "\n",
    "height = 160\n",
    "width = 320\n",
    "\n",
    "blank_image = np.zeros((height,width,3), np.uint8)"
   ]
  },
  {
   "cell_type": "code",
   "execution_count": 57,
   "metadata": {},
   "outputs": [],
   "source": [
    "horizon = height/2\n",
    "R = 100\n",
    "r = 10"
   ]
  },
  {
   "cell_type": "code",
   "execution_count": 58,
   "metadata": {},
   "outputs": [],
   "source": [
    "for y in range(horizon,height):\n",
    "    xL = width\n",
    "    xR = width\n",
    "    if (R+r)*(R+r)-(y-height)*(y-height) >= 0 :\n",
    "        xL = int((width/2+(R-r))-math.sqrt((R+r)*(R+r)-(y-height)*(y-height)))\n",
    "    if (R-r)*(R-r)-(y-height)*(y-height) >= 0:\n",
    "        xR = int((width/2+(R+r))-math.sqrt((R-r)*(R-r)-(y-height)*(y-height)))\n",
    "    xL = max(min(xL,width),0)\n",
    "    xR = max(min(xR,width),0)\n",
    "    for x in range(xL,xR):\n",
    "        blank_image[y,x] = (255,255,255)"
   ]
  },
  {
   "cell_type": "code",
   "execution_count": 54,
   "metadata": {},
   "outputs": [],
   "source": [
    "for y in range(horizon,height):\n",
    "    xL = 0\n",
    "    xR = 0\n",
    "    if (R-r)*(R-r)-(y-height)*(y-height) >= 0 :\n",
    "        xL = int((width/2-(R+r))+math.sqrt((R-r)*(R-r)-(y-height)*(y-height)))\n",
    "    if (R+r)*(R+r)-(y-height)*(y-height) >= 0:\n",
    "        xR = int((width/2-(R-r))+math.sqrt((R+r)*(R+r)-(y-height)*(y-height)))\n",
    "    xL = max(min(xL,width),0)\n",
    "    xR = max(min(xR,width),0)\n",
    "    for x in range(xL,xR):\n",
    "        blank_image[y,x] = (255,255,255)"
   ]
  },
  {
   "cell_type": "code",
   "execution_count": 59,
   "metadata": {},
   "outputs": [],
   "source": [
    "cv2.imshow('image',blank_image)\n",
    "cv2.waitKey(0)\n",
    "cv2.destroyAllWindows()"
   ]
  },
  {
   "cell_type": "code",
   "execution_count": null,
   "metadata": {},
   "outputs": [],
   "source": []
  }
 ],
 "metadata": {
  "kernelspec": {
   "display_name": "Python 2",
   "language": "python",
   "name": "python2"
  },
  "language_info": {
   "codemirror_mode": {
    "name": "ipython",
    "version": 2
   },
   "file_extension": ".py",
   "mimetype": "text/x-python",
   "name": "python",
   "nbconvert_exporter": "python",
   "pygments_lexer": "ipython2",
   "version": "2.7.12"
  }
 },
 "nbformat": 4,
 "nbformat_minor": 1
}
