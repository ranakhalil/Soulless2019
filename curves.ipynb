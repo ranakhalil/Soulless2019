{
 "cells": [
  {
   "cell_type": "markdown",
   "metadata": {},
   "source": [
    "# Trajectory Curves"
   ]
  },
  {
   "cell_type": "markdown",
   "metadata": {},
   "source": [
    "## Load Image"
   ]
  },
  {
   "cell_type": "code",
   "execution_count": 1,
   "metadata": {},
   "outputs": [],
   "source": [
    "import cv2\n",
    "import numpy as np\n",
    "import math\n",
    "from math import ceil\n",
    "import rosbag\n",
    "import rospy\n",
    "from sensor_msgs.msg import Image\n",
    "from cv_bridge import CvBridge, CvBridgeError"
   ]
  },
  {
   "cell_type": "code",
   "execution_count": 2,
   "metadata": {},
   "outputs": [],
   "source": [
    "# Get segmented images from the rosbag and convert to opencv Images\n",
    "bag = rosbag.Bag('subset.bag')\n",
    "bridge = CvBridge()\n",
    "segmented_images_cv2 = []\n",
    "for topic, msg, t in bag.read_messages(topics=['/segmented_image']):\n",
    "    segmented_images_cv2.append(bridge.imgmsg_to_cv2(msg, \"bgr8\"))"
   ]
  },
  {
   "cell_type": "code",
   "execution_count": 3,
   "metadata": {},
   "outputs": [
    {
     "name": "stdout",
     "output_type": "stream",
     "text": [
      "(480, 640, 3)\n"
     ]
    }
   ],
   "source": [
    "## Get image shape , rows, columns and channels \n",
    "shape = segmented_images_cv2[0].shape\n",
    "height = shape[0]\n",
    "width = shape[1]-1\n",
    "print(shape)"
   ]
  },
  {
   "cell_type": "code",
   "execution_count": 4,
   "metadata": {},
   "outputs": [],
   "source": [
    "horizon = int(height * 0.4)\n"
   ]
  },
  {
   "cell_type": "code",
   "execution_count": 5,
   "metadata": {},
   "outputs": [],
   "source": [
    "trajectory_pixels = [10711,12315,13894,9520,13894,12315,10711]"
   ]
  },
  {
   "cell_type": "code",
   "execution_count": 6,
   "metadata": {},
   "outputs": [],
   "source": [
    "def is_red_pixel(image, x, y):\n",
    "    if image[y, x, 2] == 255 and image[y, x, 0] == 0 and image[y, x, 1] == 0:\n",
    "        return 1\n",
    "    return 0"
   ]
  },
  {
   "cell_type": "code",
   "execution_count": 7,
   "metadata": {},
   "outputs": [],
   "source": [
    "def center_trajectories(image, r, visualize=True):\n",
    "    red_pixel_count = 0\n",
    "    for y in range(height-50, horizon , -1):\n",
    "        xL = int((ceil(width/2.) -r))\n",
    "        xR = int((ceil(width/2.) +r))\n",
    "        for x in range(xL,xR):\n",
    "            red_pixel_count += is_red_pixel(image, x, y)\n",
    "            if visualize and int(image[y, x, 2] == 255 and image[y, x, 0] == 0 and image[y, x, 1] == 0):\n",
    "                image[y,x] = (255,255,255)\n",
    "            elif int(image[y, x, 2] == 0 and image[y, x, 0] == 0 and image[y, x, 1] == 255):\n",
    "                return red_pixel_count\n",
    "    return red_pixel_count"
   ]
  },
  {
   "cell_type": "code",
   "execution_count": 8,
   "metadata": {},
   "outputs": [],
   "source": [
    "## Right Trajectories\n",
    "def right_trajectories(image, R, r, LTolerance, visualize=True):\n",
    "    red_pixel_count = 0\n",
    "    for y in range(height - 50, horizon , -1):\n",
    "        xL = width\n",
    "        xR = width\n",
    "        if (R+r) * (R+r)-(y-height)*(y-height) >= 0 :\n",
    "            xL = int((ceil(width/2.)+(R-r))-math.sqrt((R+r)*(R+r)-(y-height)*(y-height)))\n",
    "        if (R-r) * (R-r)-(y-height)*(y-height) >= 0:\n",
    "            xR = int((ceil(width/2.)+(R+r))-math.sqrt((R-r)*(R-r)-(y-height)*(y-height)))\n",
    "        xL = max( min(xL,width), 0 )\n",
    "        xR = max( min(xR,width), 0 )\n",
    "        x_count = 0\n",
    "        for x in range(xL, xR):\n",
    "            red_pixel_count += is_red_pixel(image, x, y)\n",
    "            if visualize and int(image[y, x, 2] == 255 and image[y, x, 0] == 0 and image[y, x, 1] == 0):\n",
    "                image[y,x] = (255,255,255)\n",
    "            elif int(image[y, x, 2] == 0 and image[y, x, 0] == 0 and image[y, x, 1] == 255):\n",
    "                 if (x_count < LTolerance):\n",
    "                    return red_pixel_count\n",
    "                 else:\n",
    "                    break\n",
    "            x_count += 1\n",
    "    return red_pixel_count"
   ]
  },
  {
   "cell_type": "code",
   "execution_count": 9,
   "metadata": {},
   "outputs": [],
   "source": [
    "## Left Trajectories\n",
    "def left_trajectories(image, R, r, LTolerance, visualize=True):\n",
    "    red_pixel_count = 0\n",
    "    for y in range(height - 50, horizon , -1):\n",
    "        xL = 0\n",
    "        xR = 0\n",
    "        if (R-r)*(R-r)-(y-height)*(y-height) >= 0 :\n",
    "            xL = int((ceil(width/2.)-(R+r))+math.sqrt((R-r)*(R-r)-(y-height)*(y-height)))\n",
    "        if (R+r)*(R+r)-(y-height)*(y-height) >= 0:\n",
    "            xR = int((ceil(width/2.)-(R-r))+math.sqrt((R+r)*(R+r)-(y-height)*(y-height)))\n",
    "        xL = max(min(xL,width),0)\n",
    "        xR = max(min(xR,width),0)\n",
    "        x_count = 0\n",
    "        for x in range(xR - 1, xL-1, -1):\n",
    "            red_pixel_count += is_red_pixel(image, x, y)\n",
    "            if visualize and int(image[y, x, 2] == 255 and image[y, x, 0] == 0 and image[y, x, 1] == 0):\n",
    "                image[y,x] = (255,255,255)\n",
    "            elif int(image[y, x, 2] == 0 and image[y, x, 0] == 0 and image[y, x, 1] == 255):\n",
    "                 if (x_count < LTolerance):\n",
    "                    return red_pixel_count\n",
    "                 else:\n",
    "                    break\n",
    "            x_count += 1\n",
    "    return red_pixel_count"
   ]
  },
  {
   "cell_type": "code",
   "execution_count": 10,
   "metadata": {},
   "outputs": [
    {
     "name": "stdout",
     "output_type": "stream",
     "text": [
      "[2751, 3218, 3531, 5045, 4429, 3838, 3805]\n",
      "[0.25683876 0.26130735 0.25413848 0.52993697 0.31877069 0.31165246\n",
      " 0.35524227]\n"
     ]
    }
   ],
   "source": [
    "image = segmented_images_cv2[0].copy()\n",
    "image = image[:,:-1,:]\n",
    "results = []\n",
    "results.append(left_trajectories(image,100, 10, 10,False))\n",
    "results.append(left_trajectories(image,150, 10, 10,False))\n",
    "results.append(left_trajectories(image,200, 10, 10,False))\n",
    "results.append(center_trajectories(image,20,False))\n",
    "results.append(right_trajectories(image,200, 10, 10,False))\n",
    "results.append(right_trajectories(image,150, 10, 10,False))\n",
    "results.append(right_trajectories(image,100, 10, 10,False))\n",
    "print results\n",
    "results = np.array(results,dtype=float)/np.array(trajectory_pixels,dtype=float)\n",
    "print results"
   ]
  },
  {
   "cell_type": "code",
   "execution_count": 11,
   "metadata": {},
   "outputs": [
    {
     "data": {
      "text/plain": [
       "1.0"
      ]
     },
     "execution_count": 11,
     "metadata": {},
     "output_type": "execute_result"
    }
   ],
   "source": [
    "def softmax(x):\n",
    "    \"\"\"Compute softmax values for each sets of scores in x.\"\"\"\n",
    "    return np.exp(x) / np.sum(np.exp(x), axis=0)\n",
    "\n",
    "s = softmax(results)\n",
    "np.sum(s)"
   ]
  },
  {
   "cell_type": "code",
   "execution_count": 12,
   "metadata": {},
   "outputs": [],
   "source": [
    "STEERING_RATIOS = [-1.0, -0.6, -0.3, 0, 0.3, 0.6, 1.0]\n"
   ]
  },
  {
   "cell_type": "code",
   "execution_count": 13,
   "metadata": {},
   "outputs": [
    {
     "data": {
      "text/plain": [
       "0.14800023956870514"
      ]
     },
     "execution_count": 13,
     "metadata": {},
     "output_type": "execute_result"
    }
   ],
   "source": [
    "np.dot(results, STEERING_RATIOS)"
   ]
  },
  {
   "cell_type": "code",
   "execution_count": 14,
   "metadata": {},
   "outputs": [
    {
     "ename": "ROSInitException",
     "evalue": "time is not initialized. Have you called init_node()?",
     "output_type": "error",
     "traceback": [
      "\u001b[0;31m---------------------------------------------------------------------------\u001b[0m",
      "\u001b[0;31mROSInitException\u001b[0m                          Traceback (most recent call last)",
      "\u001b[0;32m<ipython-input-14-3ddad0349a06>\u001b[0m in \u001b[0;36m<module>\u001b[0;34m()\u001b[0m\n\u001b[0;32m----> 1\u001b[0;31m \u001b[0mnow_nsecs\u001b[0m \u001b[0;34m=\u001b[0m \u001b[0mrospy\u001b[0m\u001b[0;34m.\u001b[0m\u001b[0mget_rostime\u001b[0m\u001b[0;34m(\u001b[0m\u001b[0;34m)\u001b[0m\u001b[0;34m.\u001b[0m\u001b[0mnsecs\u001b[0m\u001b[0;34m\u001b[0m\u001b[0m\n\u001b[0m\u001b[1;32m      2\u001b[0m \u001b[0mrospy\u001b[0m\u001b[0;34m.\u001b[0m\u001b[0mloginfo\u001b[0m\u001b[0;34m(\u001b[0m\u001b[0;34m\"Current time %i\"\u001b[0m\u001b[0;34m,\u001b[0m \u001b[0mnow_nsecs\u001b[0m\u001b[0;34m)\u001b[0m\u001b[0;34m\u001b[0m\u001b[0m\n",
      "\u001b[0;32m/opt/ros/kinetic/lib/python2.7/dist-packages/rospy/rostime.pyc\u001b[0m in \u001b[0;36mget_rostime\u001b[0;34m()\u001b[0m\n\u001b[1;32m    188\u001b[0m     \"\"\"\n\u001b[1;32m    189\u001b[0m     \u001b[0;32mif\u001b[0m \u001b[0;32mnot\u001b[0m \u001b[0m_rostime_initialized\u001b[0m\u001b[0;34m:\u001b[0m\u001b[0;34m\u001b[0m\u001b[0m\n\u001b[0;32m--> 190\u001b[0;31m         \u001b[0;32mraise\u001b[0m \u001b[0mrospy\u001b[0m\u001b[0;34m.\u001b[0m\u001b[0mexceptions\u001b[0m\u001b[0;34m.\u001b[0m\u001b[0mROSInitException\u001b[0m\u001b[0;34m(\u001b[0m\u001b[0;34m\"time is not initialized. Have you called init_node()?\"\u001b[0m\u001b[0;34m)\u001b[0m\u001b[0;34m\u001b[0m\u001b[0m\n\u001b[0m\u001b[1;32m    191\u001b[0m     \u001b[0;32mif\u001b[0m \u001b[0m_rostime_current\u001b[0m \u001b[0;32mis\u001b[0m \u001b[0;32mnot\u001b[0m \u001b[0mNone\u001b[0m\u001b[0;34m:\u001b[0m\u001b[0;34m\u001b[0m\u001b[0m\n\u001b[1;32m    192\u001b[0m         \u001b[0;31m# initialize with sim time\u001b[0m\u001b[0;34m\u001b[0m\u001b[0;34m\u001b[0m\u001b[0m\n",
      "\u001b[0;31mROSInitException\u001b[0m: time is not initialized. Have you called init_node()?"
     ]
    }
   ],
   "source": [
    "now_nsecs = rospy.get_rostime().nsecs\n",
    "rospy.loginfo(\"Current time %i\", now_nsecs)"
   ]
  },
  {
   "cell_type": "code",
   "execution_count": 15,
   "metadata": {},
   "outputs": [
    {
     "data": {
      "text/plain": [
       "2149"
      ]
     },
     "execution_count": 15,
     "metadata": {},
     "output_type": "execute_result"
    }
   ],
   "source": [
    "\n",
    "image = segmented_images_cv2[0].copy()\n",
    "image = image[:,:-1,:]\n",
    "left_trajectories(image,100, 10, 10)\n",
    "left_trajectories(image,150, 10, 10)\n",
    "left_trajectories(image,200, 10, 10)\n",
    "center_trajectories(image,20)\n",
    "right_trajectories(image,200, 10, 10)\n",
    "right_trajectories(image,150, 10, 10)\n",
    "right_trajectories(image,100, 10, 10)"
   ]
  },
  {
   "cell_type": "code",
   "execution_count": 16,
   "metadata": {},
   "outputs": [],
   "source": [
    "for idx, image in enumerate(segmented_images_cv2):\n",
    "    image_copy = image.copy()\n",
    "    left_trajectories(image_copy,100, 10, 10)\n",
    "    left_trajectories(image_copy,150, 10, 10)\n",
    "    left_trajectories(image_copy,200, 10, 10)\n",
    "    center_trajectories(image_copy,20)\n",
    "    right_trajectories(image_copy,200, 10, 10)\n",
    "    right_trajectories(image_copy,150, 10, 10)\n",
    "    right_trajectories(image_copy,100, 10, 10)\n",
    "    cv2.imwrite('traject_thunderhill/{}_traject.jpg'.format(idx), image_copy)"
   ]
  },
  {
   "cell_type": "code",
   "execution_count": null,
   "metadata": {},
   "outputs": [],
   "source": [
    "cv2.imshow('image',image)\n",
    "cv2.waitKey(0)\n",
    "cv2.destroyAllWindows()"
   ]
  },
  {
   "cell_type": "code",
   "execution_count": null,
   "metadata": {},
   "outputs": [],
   "source": []
  }
 ],
 "metadata": {
  "kernelspec": {
   "display_name": "Python 2",
   "language": "python",
   "name": "python2"
  },
  "language_info": {
   "codemirror_mode": {
    "name": "ipython",
    "version": 2
   },
   "file_extension": ".py",
   "mimetype": "text/x-python",
   "name": "python",
   "nbconvert_exporter": "python",
   "pygments_lexer": "ipython2",
   "version": "2.7.12"
  }
 },
 "nbformat": 4,
 "nbformat_minor": 1
}
