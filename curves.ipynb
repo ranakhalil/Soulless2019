{
 "cells": [
  {
   "cell_type": "markdown",
   "metadata": {},
   "source": [
    "# Trajectory Curves"
   ]
  },
  {
   "cell_type": "markdown",
   "metadata": {},
   "source": [
    "## Load Image"
   ]
  },
  {
   "cell_type": "code",
   "execution_count": 1,
   "metadata": {},
   "outputs": [],
   "source": [
    "import cv2\n",
    "import numpy as np\n",
    "import math\n",
    "import rosbag\n",
    "from sensor_msgs.msg import Image\n",
    "from cv_bridge import CvBridge, CvBridgeError"
   ]
  },
  {
   "cell_type": "code",
   "execution_count": 2,
   "metadata": {},
   "outputs": [],
   "source": [
    "# Get segmented images from the rosbag and convert to opencv Images\n",
    "bag = rosbag.Bag('subset.bag')\n",
    "bridge = CvBridge()\n",
    "segmented_images_cv2 = []\n",
    "for topic, msg, t in bag.read_messages(topics=['/segmented_image']):\n",
    "    segmented_images_cv2.append(bridge.imgmsg_to_cv2(msg, \"bgr8\"))"
   ]
  },
  {
   "cell_type": "code",
   "execution_count": 3,
   "metadata": {},
   "outputs": [
    {
     "name": "stdout",
     "output_type": "stream",
     "text": [
      "1064\n"
     ]
    }
   ],
   "source": [
    "## Get image shape , rows, columns and channels \n",
    "shape = segmented_images_cv2[0].shape\n",
    "height = shape[0]\n",
    "width = shape[1]\n",
    "print(len(segmented_images_cv2))"
   ]
  },
  {
   "cell_type": "code",
   "execution_count": 4,
   "metadata": {},
   "outputs": [],
   "source": [
    "horizon = int(height * 0.6)"
   ]
  },
  {
   "cell_type": "code",
   "execution_count": 5,
   "metadata": {},
   "outputs": [],
   "source": [
    "def is_red_pixel(image, x, y):\n",
    "    return int(image[y, x, 2] == 255 and image[y, x, 0] == 0 and image[y, x, 1] == 0)"
   ]
  },
  {
   "cell_type": "code",
   "execution_count": 6,
   "metadata": {},
   "outputs": [],
   "source": [
    "def center_trajectories(image, r, visualize=True):\n",
    "    red_pixel_count = 0\n",
    "    for y in range(height - 1, horizon +1 , -1):\n",
    "        xL = int((width/2 -r))\n",
    "        xR = int((width/2 +r))\n",
    "        for x in range(xL,xR):\n",
    "            red_pixel_count += is_red_pixel(image, x, y)\n",
    "            if visualize and int(image[y, x, 2] == 255 and image[y, x, 0] == 0 and image[y, x, 1] == 0):\n",
    "                image[y,x] = (255,255,255)\n",
    "            elif int(image[y, x, 2] == 0 and image[y, x, 0] == 0 and image[y, x, 1] == 255):\n",
    "                return\n",
    "    return red_pixel_count"
   ]
  },
  {
   "cell_type": "code",
   "execution_count": 7,
   "metadata": {},
   "outputs": [],
   "source": [
    "## Right Trajectories\n",
    "def right_trajectories(image, R, r, LTolerance, visualize=True):\n",
    "    red_pixel_count = 0\n",
    "    for y in range(height - 1, horizon +1 , -1):\n",
    "        xL = width\n",
    "        xR = width\n",
    "        if (R+r) * (R+r)-(y-height)*(y-height) >= 0 :\n",
    "            xL = int((width/2+(R-r))-math.sqrt((R+r)*(R+r)-(y-height)*(y-height)))\n",
    "        if (R-r) * (R-r)-(y-height)*(y-height) >= 0:\n",
    "            xR = int((width/2+(R+r))-math.sqrt((R-r)*(R-r)-(y-height)*(y-height)))\n",
    "        xL = max( min(xL,width), 0 )\n",
    "        xR = max( min(xR,width), 0 )\n",
    "        x_count = 0\n",
    "        for x in range(xL, xR):\n",
    "            red_pixel_count += is_red_pixel(image, x, y)\n",
    "            if visualize and int(image[y, x, 2] == 255 and image[y, x, 0] == 0 and image[y, x, 1] == 0):\n",
    "                image[y,x] = (255,255,255)\n",
    "            elif int(image[y, x, 2] == 0 and image[y, x, 0] == 0 and image[y, x, 1] == 255):\n",
    "                if (x_count < LTolerance):\n",
    "                    return\n",
    "                else:\n",
    "                    break\n",
    "            x_count += 1\n",
    "    return red_pixel_count"
   ]
  },
  {
   "cell_type": "code",
   "execution_count": 8,
   "metadata": {},
   "outputs": [],
   "source": [
    "## Left Trajectories\n",
    "def left_trajectories(image, R, r, LTolerance, visualize=True):\n",
    "    red_pixel_count = 0\n",
    "    #image_copy = image.copy()\n",
    "    for y in range(height - 1, horizon +1 , -1):\n",
    "        xL = 0\n",
    "        xR = 0\n",
    "        if (R-r)*(R-r)-(y-height)*(y-height) >= 0 :\n",
    "            xL = int((width/2-(R+r))+math.sqrt((R-r)*(R-r)-(y-height)*(y-height)))\n",
    "        if (R+r)*(R+r)-(y-height)*(y-height) >= 0:\n",
    "            xR = int((width/2-(R-r))+math.sqrt((R+r)*(R+r)-(y-height)*(y-height)))\n",
    "        xL = max(min(xL,width),0)\n",
    "        xR = max(min(xR,width),0)\n",
    "        x_count = 0\n",
    "        for x in range(xR - 1, xL, -1):\n",
    "            red_pixel_count += is_red_pixel(image, x, y)\n",
    "            if visualize and int(image[y, x, 2] == 255 and image[y, x, 0] == 0 and image[y, x, 1] == 0):\n",
    "                image[y,x] = (255,255,255)\n",
    "            elif int(image[y, x, 2] == 0 and image[y, x, 0] == 0 and image[y, x, 1] == 255):\n",
    "                if (x_count < LTolerance):\n",
    "                    return\n",
    "                else:\n",
    "                    break\n",
    "            x_count += 1\n",
    "    return red_pixel_count"
   ]
  },
  {
   "cell_type": "code",
   "execution_count": 25,
   "metadata": {},
   "outputs": [
    {
     "name": "stdout",
     "output_type": "stream",
     "text": [
      "6398\n",
      "7005\n",
      "6135\n"
     ]
    }
   ],
   "source": [
    "print left_trajectories(blank_image,200, 10, 10, False)\n",
    "print center_trajectories(blank_image,20, 10, False)\n",
    "print right_trajectories(blank_image,200, 10, 10, False)"
   ]
  },
  {
   "cell_type": "code",
   "execution_count": 23,
   "metadata": {},
   "outputs": [],
   "source": [
    "left_trajectories(segmented_images_cv2[100],100, 10, 10)\n",
    "left_trajectories(segmented_images_cv2[100],150, 10, 10)\n",
    "left_trajectories(segmented_images_cv2[100],200, 10, 10)\n",
    "center_trajectories(segmented_images_cv2[100],20)\n",
    "right_trajectories(segmented_images_cv2[100],200, 10, 10)\n",
    "right_trajectories(segmented_images_cv2[100],150, 10, 10)\n",
    "right_trajectories(segmented_images_cv2[100],100, 10, 10)"
   ]
  },
  {
   "cell_type": "code",
   "execution_count": 10,
   "metadata": {},
   "outputs": [],
   "source": [
    "for idx, image in enumerate(segmented_images_cv2):\n",
    "    image_copy = image.copy()\n",
    "    left_trajectories(image_copy,100, 10, 10)\n",
    "    left_trajectories(image_copy,150, 10, 10)\n",
    "    left_trajectories(image_copy,200, 10, 10)\n",
    "    center_trajectories(image_copy,20)\n",
    "    right_trajectories(image_copy,200, 10, 10)\n",
    "    right_trajectories(image_copy,150, 10, 10)\n",
    "    right_trajectories(image_copy,100, 10, 10)\n",
    "    cv2.imwrite('traject/{}_traject.jpg'.format(idx), image_copy)"
   ]
  },
  {
   "cell_type": "code",
   "execution_count": 24,
   "metadata": {},
   "outputs": [],
   "source": [
    "# cv2.imshow('image',segmented_images_cv2[100])\n",
    "# cv2.waitKey(0)\n",
    "# cv2.destroyAllWindows()"
   ]
  },
  {
   "cell_type": "code",
   "execution_count": null,
   "metadata": {},
   "outputs": [],
   "source": []
  }
 ],
 "metadata": {
  "kernelspec": {
   "display_name": "Python 2",
   "language": "python",
   "name": "python2"
  },
  "language_info": {
   "codemirror_mode": {
    "name": "ipython",
    "version": 2
   },
   "file_extension": ".py",
   "mimetype": "text/x-python",
   "name": "python",
   "nbconvert_exporter": "python",
   "pygments_lexer": "ipython2",
   "version": "2.7.12"
  }
 },
 "nbformat": 4,
 "nbformat_minor": 1
}
